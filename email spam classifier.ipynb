{
 "cells": [
  {
   "cell_type": "markdown",
   "id": "7294c4c7",
   "metadata": {
    "papermill": {
     "duration": 0.006811,
     "end_time": "2023-09-11T18:45:27.324469",
     "exception": false,
     "start_time": "2023-09-11T18:45:27.317658",
     "status": "completed"
    },
    "tags": []
   },
   "source": [
    "# Email Spam Classifier"
   ]
  },
  {
   "cell_type": "markdown",
   "id": "d4920356",
   "metadata": {
    "papermill": {
     "duration": 0.005764,
     "end_time": "2023-09-11T18:45:27.336379",
     "exception": false,
     "start_time": "2023-09-11T18:45:27.330615",
     "status": "completed"
    },
    "tags": []
   },
   "source": [
    "   ![](https://media.giphy.com/media/KxlbRn0HuTW7gZID83/giphy.gif )"
   ]
  },
  {
   "cell_type": "markdown",
   "id": "67d809d0",
   "metadata": {
    "papermill": {
     "duration": 0.005651,
     "end_time": "2023-09-11T18:45:27.347944",
     "exception": false,
     "start_time": "2023-09-11T18:45:27.342293",
     "status": "completed"
    },
    "tags": []
   },
   "source": [
    "#### The objective is to develop a machine learning model that can categorize emails into two categories: spam and non-spam (often referred to as \"ham\"). \n",
    "\n",
    "#### This model will help us filter out unwanted and potentially harmful emails from our inbox. \n",
    "#### We will follow standard data science procedures, including data loading, preprocessing, feature extraction, model training, evaluation, and prediction, to achieve this goal.\n",
    "\n",
    "#### Let's begin building our email spam detector!"
   ]
  },
  {
   "cell_type": "markdown",
   "id": "ac094087",
   "metadata": {
    "papermill": {
     "duration": 0.005692,
     "end_time": "2023-09-11T18:45:27.359707",
     "exception": false,
     "start_time": "2023-09-11T18:45:27.354015",
     "status": "completed"
    },
    "tags": []
   },
   "source": [
    "## Importing Necessary Libraries"
   ]
  },
  {
   "cell_type": "code",
   "execution_count": 1,
   "id": "a524cff1",
   "metadata": {
    "execution": {
     "iopub.execute_input": "2023-09-11T18:45:27.373118Z",
     "iopub.status.busy": "2023-09-11T18:45:27.372758Z",
     "iopub.status.idle": "2023-09-11T18:45:29.443633Z",
     "shell.execute_reply": "2023-09-11T18:45:29.442619Z"
    },
    "papermill": {
     "duration": 2.080214,
     "end_time": "2023-09-11T18:45:29.445779",
     "exception": false,
     "start_time": "2023-09-11T18:45:27.365565",
     "status": "completed"
    },
    "tags": []
   },
   "outputs": [],
   "source": [
    "# Import Libraries\n",
    "import numpy as np\n",
    "import pandas as pd\n",
    "import matplotlib.pyplot as plt\n",
    "import seaborn as sns\n",
    "from sklearn.model_selection import train_test_split\n",
    "from sklearn.feature_extraction.text import TfidfVectorizer\n",
    "from sklearn.ensemble import RandomForestClassifier\n",
    "from sklearn.metrics import accuracy_score, confusion_matrix, classification_report\n"
   ]
  },
  {
   "cell_type": "markdown",
   "id": "a7a177a0",
   "metadata": {
    "papermill": {
     "duration": 0.005885,
     "end_time": "2023-09-11T18:45:29.458042",
     "exception": false,
     "start_time": "2023-09-11T18:45:29.452157",
     "status": "completed"
    },
    "tags": []
   },
   "source": [
    "## Load and Explore the Dataset"
   ]
  },
  {
   "cell_type": "code",
   "execution_count": 2,
   "id": "c1902090",
   "metadata": {
    "execution": {
     "iopub.execute_input": "2023-09-11T18:45:29.471709Z",
     "iopub.status.busy": "2023-09-11T18:45:29.471212Z",
     "iopub.status.idle": "2023-09-11T18:45:29.506489Z",
     "shell.execute_reply": "2023-09-11T18:45:29.505730Z"
    },
    "papermill": {
     "duration": 0.044594,
     "end_time": "2023-09-11T18:45:29.508574",
     "exception": false,
     "start_time": "2023-09-11T18:45:29.463980",
     "status": "completed"
    },
    "tags": []
   },
   "outputs": [],
   "source": [
    "# Load the dataset\n",
    "df = pd.read_csv(\"/kaggle/input/sms-spam-collection-dataset/spam.csv\", encoding='ISO-8859-1')\n"
   ]
  },
  {
   "cell_type": "code",
   "execution_count": 3,
   "id": "ffba5e54",
   "metadata": {
    "execution": {
     "iopub.execute_input": "2023-09-11T18:45:29.522773Z",
     "iopub.status.busy": "2023-09-11T18:45:29.522409Z",
     "iopub.status.idle": "2023-09-11T18:45:29.543219Z",
     "shell.execute_reply": "2023-09-11T18:45:29.541930Z"
    },
    "papermill": {
     "duration": 0.030685,
     "end_time": "2023-09-11T18:45:29.545745",
     "exception": false,
     "start_time": "2023-09-11T18:45:29.515060",
     "status": "completed"
    },
    "tags": []
   },
   "outputs": [
    {
     "data": {
      "text/html": [
       "<div>\n",
       "<style scoped>\n",
       "    .dataframe tbody tr th:only-of-type {\n",
       "        vertical-align: middle;\n",
       "    }\n",
       "\n",
       "    .dataframe tbody tr th {\n",
       "        vertical-align: top;\n",
       "    }\n",
       "\n",
       "    .dataframe thead th {\n",
       "        text-align: right;\n",
       "    }\n",
       "</style>\n",
       "<table border=\"1\" class=\"dataframe\">\n",
       "  <thead>\n",
       "    <tr style=\"text-align: right;\">\n",
       "      <th></th>\n",
       "      <th>v1</th>\n",
       "      <th>v2</th>\n",
       "      <th>Unnamed: 2</th>\n",
       "      <th>Unnamed: 3</th>\n",
       "      <th>Unnamed: 4</th>\n",
       "    </tr>\n",
       "  </thead>\n",
       "  <tbody>\n",
       "    <tr>\n",
       "      <th>0</th>\n",
       "      <td>ham</td>\n",
       "      <td>Go until jurong point, crazy.. Available only ...</td>\n",
       "      <td>NaN</td>\n",
       "      <td>NaN</td>\n",
       "      <td>NaN</td>\n",
       "    </tr>\n",
       "    <tr>\n",
       "      <th>1</th>\n",
       "      <td>ham</td>\n",
       "      <td>Ok lar... Joking wif u oni...</td>\n",
       "      <td>NaN</td>\n",
       "      <td>NaN</td>\n",
       "      <td>NaN</td>\n",
       "    </tr>\n",
       "    <tr>\n",
       "      <th>2</th>\n",
       "      <td>spam</td>\n",
       "      <td>Free entry in 2 a wkly comp to win FA Cup fina...</td>\n",
       "      <td>NaN</td>\n",
       "      <td>NaN</td>\n",
       "      <td>NaN</td>\n",
       "    </tr>\n",
       "    <tr>\n",
       "      <th>3</th>\n",
       "      <td>ham</td>\n",
       "      <td>U dun say so early hor... U c already then say...</td>\n",
       "      <td>NaN</td>\n",
       "      <td>NaN</td>\n",
       "      <td>NaN</td>\n",
       "    </tr>\n",
       "    <tr>\n",
       "      <th>4</th>\n",
       "      <td>ham</td>\n",
       "      <td>Nah I don't think he goes to usf, he lives aro...</td>\n",
       "      <td>NaN</td>\n",
       "      <td>NaN</td>\n",
       "      <td>NaN</td>\n",
       "    </tr>\n",
       "  </tbody>\n",
       "</table>\n",
       "</div>"
      ],
      "text/plain": [
       "     v1                                                 v2 Unnamed: 2  \\\n",
       "0   ham  Go until jurong point, crazy.. Available only ...        NaN   \n",
       "1   ham                      Ok lar... Joking wif u oni...        NaN   \n",
       "2  spam  Free entry in 2 a wkly comp to win FA Cup fina...        NaN   \n",
       "3   ham  U dun say so early hor... U c already then say...        NaN   \n",
       "4   ham  Nah I don't think he goes to usf, he lives aro...        NaN   \n",
       "\n",
       "  Unnamed: 3 Unnamed: 4  \n",
       "0        NaN        NaN  \n",
       "1        NaN        NaN  \n",
       "2        NaN        NaN  \n",
       "3        NaN        NaN  \n",
       "4        NaN        NaN  "
      ]
     },
     "execution_count": 3,
     "metadata": {},
     "output_type": "execute_result"
    }
   ],
   "source": [
    "# Display the first few rows of the dataset\n",
    "df.head()"
   ]
  },
  {
   "cell_type": "markdown",
   "id": "e05871f8",
   "metadata": {
    "papermill": {
     "duration": 0.006582,
     "end_time": "2023-09-11T18:45:29.559757",
     "exception": false,
     "start_time": "2023-09-11T18:45:29.553175",
     "status": "completed"
    },
    "tags": []
   },
   "source": [
    "## Data Preprocessing"
   ]
  },
  {
   "cell_type": "code",
   "execution_count": 4,
   "id": "1e38a7e7",
   "metadata": {
    "execution": {
     "iopub.execute_input": "2023-09-11T18:45:29.574963Z",
     "iopub.status.busy": "2023-09-11T18:45:29.574630Z",
     "iopub.status.idle": "2023-09-11T18:45:29.580564Z",
     "shell.execute_reply": "2023-09-11T18:45:29.579596Z"
    },
    "papermill": {
     "duration": 0.016308,
     "end_time": "2023-09-11T18:45:29.582776",
     "exception": false,
     "start_time": "2023-09-11T18:45:29.566468",
     "status": "completed"
    },
    "tags": []
   },
   "outputs": [
    {
     "name": "stdout",
     "output_type": "stream",
     "text": [
      "Index(['v1', 'v2', 'Unnamed: 2', 'Unnamed: 3', 'Unnamed: 4'], dtype='object')\n"
     ]
    }
   ],
   "source": [
    "# Display the column names of the DataFrame\n",
    "print(df.columns)\n"
   ]
  },
  {
   "cell_type": "code",
   "execution_count": 5,
   "id": "7802a391",
   "metadata": {
    "execution": {
     "iopub.execute_input": "2023-09-11T18:45:29.597888Z",
     "iopub.status.busy": "2023-09-11T18:45:29.597565Z",
     "iopub.status.idle": "2023-09-11T18:45:29.609489Z",
     "shell.execute_reply": "2023-09-11T18:45:29.608590Z"
    },
    "papermill": {
     "duration": 0.021605,
     "end_time": "2023-09-11T18:45:29.611299",
     "exception": false,
     "start_time": "2023-09-11T18:45:29.589694",
     "status": "completed"
    },
    "tags": []
   },
   "outputs": [],
   "source": [
    "# Convert 'spam' and 'ham' to binary labels\n",
    "df['v1'] = df['v1'].map({'spam': 0, 'ham': 1})"
   ]
  },
  {
   "cell_type": "code",
   "execution_count": 6,
   "id": "aab2bbae",
   "metadata": {
    "execution": {
     "iopub.execute_input": "2023-09-11T18:45:29.626100Z",
     "iopub.status.busy": "2023-09-11T18:45:29.625738Z",
     "iopub.status.idle": "2023-09-11T18:45:29.630746Z",
     "shell.execute_reply": "2023-09-11T18:45:29.629750Z"
    },
    "papermill": {
     "duration": 0.015058,
     "end_time": "2023-09-11T18:45:29.632963",
     "exception": false,
     "start_time": "2023-09-11T18:45:29.617905",
     "status": "completed"
    },
    "tags": []
   },
   "outputs": [],
   "source": [
    "# Split the data into features (X) and target (Y)\n",
    "X = df[\"v2\"]\n",
    "Y = df[\"v1\"]"
   ]
  },
  {
   "cell_type": "code",
   "execution_count": 7,
   "id": "28193139",
   "metadata": {
    "execution": {
     "iopub.execute_input": "2023-09-11T18:45:29.648108Z",
     "iopub.status.busy": "2023-09-11T18:45:29.647593Z",
     "iopub.status.idle": "2023-09-11T18:45:29.654642Z",
     "shell.execute_reply": "2023-09-11T18:45:29.653912Z"
    },
    "papermill": {
     "duration": 0.016437,
     "end_time": "2023-09-11T18:45:29.656392",
     "exception": false,
     "start_time": "2023-09-11T18:45:29.639955",
     "status": "completed"
    },
    "tags": []
   },
   "outputs": [],
   "source": [
    "# Split the data into training and test sets\n",
    "X_train, X_test, Y_train, Y_test = train_test_split(X, Y, test_size=0.35, random_state=3)"
   ]
  },
  {
   "cell_type": "markdown",
   "id": "d18d0dab",
   "metadata": {
    "papermill": {
     "duration": 0.006676,
     "end_time": "2023-09-11T18:45:29.669684",
     "exception": false,
     "start_time": "2023-09-11T18:45:29.663008",
     "status": "completed"
    },
    "tags": []
   },
   "source": [
    "## Feature Extraction - TF-IDF"
   ]
  },
  {
   "cell_type": "code",
   "execution_count": 8,
   "id": "67cbc5c2",
   "metadata": {
    "execution": {
     "iopub.execute_input": "2023-09-11T18:45:29.685036Z",
     "iopub.status.busy": "2023-09-11T18:45:29.684517Z",
     "iopub.status.idle": "2023-09-11T18:45:29.777980Z",
     "shell.execute_reply": "2023-09-11T18:45:29.776995Z"
    },
    "papermill": {
     "duration": 0.103347,
     "end_time": "2023-09-11T18:45:29.780170",
     "exception": false,
     "start_time": "2023-09-11T18:45:29.676823",
     "status": "completed"
    },
    "tags": []
   },
   "outputs": [],
   "source": [
    "# TF-IDF feature extraction\n",
    "tfidf_vectorizer = TfidfVectorizer(min_df=1, stop_words='english', lowercase=True)\n",
    "X_train_features = tfidf_vectorizer.fit_transform(X_train)\n",
    "X_test_features = tfidf_vectorizer.transform(X_test)\n"
   ]
  },
  {
   "cell_type": "markdown",
   "id": "322945d5",
   "metadata": {
    "papermill": {
     "duration": 0.006621,
     "end_time": "2023-09-11T18:45:29.793439",
     "exception": false,
     "start_time": "2023-09-11T18:45:29.786818",
     "status": "completed"
    },
    "tags": []
   },
   "source": [
    "## Model Training (Random Forest)"
   ]
  },
  {
   "cell_type": "code",
   "execution_count": 9,
   "id": "2a419e92",
   "metadata": {
    "execution": {
     "iopub.execute_input": "2023-09-11T18:45:29.807683Z",
     "iopub.status.busy": "2023-09-11T18:45:29.807343Z",
     "iopub.status.idle": "2023-09-11T18:45:30.726902Z",
     "shell.execute_reply": "2023-09-11T18:45:30.726027Z"
    },
    "papermill": {
     "duration": 0.928903,
     "end_time": "2023-09-11T18:45:30.728732",
     "exception": false,
     "start_time": "2023-09-11T18:45:29.799829",
     "status": "completed"
    },
    "tags": []
   },
   "outputs": [
    {
     "data": {
      "text/html": [
       "<style>#sk-container-id-1 {color: black;background-color: white;}#sk-container-id-1 pre{padding: 0;}#sk-container-id-1 div.sk-toggleable {background-color: white;}#sk-container-id-1 label.sk-toggleable__label {cursor: pointer;display: block;width: 100%;margin-bottom: 0;padding: 0.3em;box-sizing: border-box;text-align: center;}#sk-container-id-1 label.sk-toggleable__label-arrow:before {content: \"▸\";float: left;margin-right: 0.25em;color: #696969;}#sk-container-id-1 label.sk-toggleable__label-arrow:hover:before {color: black;}#sk-container-id-1 div.sk-estimator:hover label.sk-toggleable__label-arrow:before {color: black;}#sk-container-id-1 div.sk-toggleable__content {max-height: 0;max-width: 0;overflow: hidden;text-align: left;background-color: #f0f8ff;}#sk-container-id-1 div.sk-toggleable__content pre {margin: 0.2em;color: black;border-radius: 0.25em;background-color: #f0f8ff;}#sk-container-id-1 input.sk-toggleable__control:checked~div.sk-toggleable__content {max-height: 200px;max-width: 100%;overflow: auto;}#sk-container-id-1 input.sk-toggleable__control:checked~label.sk-toggleable__label-arrow:before {content: \"▾\";}#sk-container-id-1 div.sk-estimator input.sk-toggleable__control:checked~label.sk-toggleable__label {background-color: #d4ebff;}#sk-container-id-1 div.sk-label input.sk-toggleable__control:checked~label.sk-toggleable__label {background-color: #d4ebff;}#sk-container-id-1 input.sk-hidden--visually {border: 0;clip: rect(1px 1px 1px 1px);clip: rect(1px, 1px, 1px, 1px);height: 1px;margin: -1px;overflow: hidden;padding: 0;position: absolute;width: 1px;}#sk-container-id-1 div.sk-estimator {font-family: monospace;background-color: #f0f8ff;border: 1px dotted black;border-radius: 0.25em;box-sizing: border-box;margin-bottom: 0.5em;}#sk-container-id-1 div.sk-estimator:hover {background-color: #d4ebff;}#sk-container-id-1 div.sk-parallel-item::after {content: \"\";width: 100%;border-bottom: 1px solid gray;flex-grow: 1;}#sk-container-id-1 div.sk-label:hover label.sk-toggleable__label {background-color: #d4ebff;}#sk-container-id-1 div.sk-serial::before {content: \"\";position: absolute;border-left: 1px solid gray;box-sizing: border-box;top: 0;bottom: 0;left: 50%;z-index: 0;}#sk-container-id-1 div.sk-serial {display: flex;flex-direction: column;align-items: center;background-color: white;padding-right: 0.2em;padding-left: 0.2em;position: relative;}#sk-container-id-1 div.sk-item {position: relative;z-index: 1;}#sk-container-id-1 div.sk-parallel {display: flex;align-items: stretch;justify-content: center;background-color: white;position: relative;}#sk-container-id-1 div.sk-item::before, #sk-container-id-1 div.sk-parallel-item::before {content: \"\";position: absolute;border-left: 1px solid gray;box-sizing: border-box;top: 0;bottom: 0;left: 50%;z-index: -1;}#sk-container-id-1 div.sk-parallel-item {display: flex;flex-direction: column;z-index: 1;position: relative;background-color: white;}#sk-container-id-1 div.sk-parallel-item:first-child::after {align-self: flex-end;width: 50%;}#sk-container-id-1 div.sk-parallel-item:last-child::after {align-self: flex-start;width: 50%;}#sk-container-id-1 div.sk-parallel-item:only-child::after {width: 0;}#sk-container-id-1 div.sk-dashed-wrapped {border: 1px dashed gray;margin: 0 0.4em 0.5em 0.4em;box-sizing: border-box;padding-bottom: 0.4em;background-color: white;}#sk-container-id-1 div.sk-label label {font-family: monospace;font-weight: bold;display: inline-block;line-height: 1.2em;}#sk-container-id-1 div.sk-label-container {text-align: center;}#sk-container-id-1 div.sk-container {/* jupyter's `normalize.less` sets `[hidden] { display: none; }` but bootstrap.min.css set `[hidden] { display: none !important; }` so we also need the `!important` here to be able to override the default hidden behavior on the sphinx rendered scikit-learn.org. See: https://github.com/scikit-learn/scikit-learn/issues/21755 */display: inline-block !important;position: relative;}#sk-container-id-1 div.sk-text-repr-fallback {display: none;}</style><div id=\"sk-container-id-1\" class=\"sk-top-container\"><div class=\"sk-text-repr-fallback\"><pre>RandomForestClassifier(random_state=3)</pre><b>In a Jupyter environment, please rerun this cell to show the HTML representation or trust the notebook. <br />On GitHub, the HTML representation is unable to render, please try loading this page with nbviewer.org.</b></div><div class=\"sk-container\" hidden><div class=\"sk-item\"><div class=\"sk-estimator sk-toggleable\"><input class=\"sk-toggleable__control sk-hidden--visually\" id=\"sk-estimator-id-1\" type=\"checkbox\" checked><label for=\"sk-estimator-id-1\" class=\"sk-toggleable__label sk-toggleable__label-arrow\">RandomForestClassifier</label><div class=\"sk-toggleable__content\"><pre>RandomForestClassifier(random_state=3)</pre></div></div></div></div></div>"
      ],
      "text/plain": [
       "RandomForestClassifier(random_state=3)"
      ]
     },
     "execution_count": 9,
     "metadata": {},
     "output_type": "execute_result"
    }
   ],
   "source": [
    "# Model training\n",
    "model = RandomForestClassifier(n_estimators=100, random_state=3)\n",
    "model.fit(X_train_features, Y_train)"
   ]
  },
  {
   "cell_type": "markdown",
   "id": "ae6f0861",
   "metadata": {
    "papermill": {
     "duration": 0.006455,
     "end_time": "2023-09-11T18:45:30.741892",
     "exception": false,
     "start_time": "2023-09-11T18:45:30.735437",
     "status": "completed"
    },
    "tags": []
   },
   "source": [
    "## Model Evaluation (Random Forest)"
   ]
  },
  {
   "cell_type": "code",
   "execution_count": 10,
   "id": "086615ce",
   "metadata": {
    "execution": {
     "iopub.execute_input": "2023-09-11T18:45:30.756687Z",
     "iopub.status.busy": "2023-09-11T18:45:30.755702Z",
     "iopub.status.idle": "2023-09-11T18:45:30.939612Z",
     "shell.execute_reply": "2023-09-11T18:45:30.938748Z"
    },
    "papermill": {
     "duration": 0.193591,
     "end_time": "2023-09-11T18:45:30.941833",
     "exception": false,
     "start_time": "2023-09-11T18:45:30.748242",
     "status": "completed"
    },
    "tags": []
   },
   "outputs": [],
   "source": [
    "prediction_on_training_data = model.predict(X_train_features)\n",
    "accuracy_on_training_data = accuracy_score(Y_train, prediction_on_training_data)\n",
    "\n",
    "prediction_on_test_data = model.predict(X_test_features)\n",
    "accuracy_on_test_data = accuracy_score(Y_test, prediction_on_test_data)\n"
   ]
  },
  {
   "cell_type": "code",
   "execution_count": 11,
   "id": "031ce648",
   "metadata": {
    "execution": {
     "iopub.execute_input": "2023-09-11T18:45:30.956600Z",
     "iopub.status.busy": "2023-09-11T18:45:30.956277Z",
     "iopub.status.idle": "2023-09-11T18:45:30.961296Z",
     "shell.execute_reply": "2023-09-11T18:45:30.960146Z"
    },
    "papermill": {
     "duration": 0.014425,
     "end_time": "2023-09-11T18:45:30.963143",
     "exception": false,
     "start_time": "2023-09-11T18:45:30.948718",
     "status": "completed"
    },
    "tags": []
   },
   "outputs": [
    {
     "name": "stdout",
     "output_type": "stream",
     "text": [
      "Accuracy on training data: 100.00 %\n",
      "Accuracy on test data: 97.49 %\n"
     ]
    }
   ],
   "source": [
    "#Print accuracy\n",
    "\n",
    "print('Accuracy on training data: {:.2f} %'.format(accuracy_on_training_data * 100))\n",
    "print('Accuracy on test data: {:.2f} %'.format(accuracy_on_test_data * 100))"
   ]
  },
  {
   "cell_type": "markdown",
   "id": "a0267c81",
   "metadata": {
    "papermill": {
     "duration": 0.006192,
     "end_time": "2023-09-11T18:45:30.976157",
     "exception": false,
     "start_time": "2023-09-11T18:45:30.969965",
     "status": "completed"
    },
    "tags": []
   },
   "source": [
    "## Confusion Matrix Visualization(Random Forest Classifier)"
   ]
  },
  {
   "cell_type": "code",
   "execution_count": 12,
   "id": "7f1e5d3a",
   "metadata": {
    "execution": {
     "iopub.execute_input": "2023-09-11T18:45:30.990912Z",
     "iopub.status.busy": "2023-09-11T18:45:30.990172Z",
     "iopub.status.idle": "2023-09-11T18:45:31.131110Z",
     "shell.execute_reply": "2023-09-11T18:45:31.130300Z"
    },
    "papermill": {
     "duration": 0.150642,
     "end_time": "2023-09-11T18:45:31.133074",
     "exception": false,
     "start_time": "2023-09-11T18:45:30.982432",
     "status": "completed"
    },
    "tags": []
   },
   "outputs": [
    {
     "data": {
      "image/png": "[encoded data removed]",
      "text/plain": [
       "<Figure size 800x600 with 1 Axes>"
      ]
     },
     "metadata": {},
     "output_type": "display_data"
    }
   ],
   "source": [
    "# Confusion Matrix Visualization\n",
    "conf_matrix = confusion_matrix(Y_test, prediction_on_test_data)\n",
    "plt.figure(figsize=(8, 6))\n",
    "sns.heatmap(conf_matrix, annot=True, fmt=\"d\", cmap=\"Blues\", cbar=False,\n",
    "            xticklabels=['Spam', 'Ham'], yticklabels=['Spam', 'Ham'])\n",
    "plt.xlabel('Predicted')\n",
    "plt.ylabel('Actual')\n",
    "plt.title('Confusion Matrix')\n",
    "plt.show()"
   ]
  },
  {
   "cell_type": "markdown",
   "id": "4887745c",
   "metadata": {
    "papermill": {
     "duration": 0.008875,
     "end_time": "2023-09-11T18:45:31.151444",
     "exception": false,
     "start_time": "2023-09-11T18:45:31.142569",
     "status": "completed"
    },
    "tags": []
   },
   "source": [
    "##  Classification Report (Random Forest Classifier)"
   ]
  },
  {
   "cell_type": "code",
   "execution_count": 13,
   "id": "16c910af",
   "metadata": {
    "execution": {
     "iopub.execute_input": "2023-09-11T18:45:31.170960Z",
     "iopub.status.busy": "2023-09-11T18:45:31.170237Z",
     "iopub.status.idle": "2023-09-11T18:45:31.184169Z",
     "shell.execute_reply": "2023-09-11T18:45:31.183171Z"
    },
    "papermill": {
     "duration": 0.025962,
     "end_time": "2023-09-11T18:45:31.185937",
     "exception": false,
     "start_time": "2023-09-11T18:45:31.159975",
     "status": "completed"
    },
    "tags": []
   },
   "outputs": [
    {
     "name": "stdout",
     "output_type": "stream",
     "text": [
      "Classification Report:\n",
      "              precision    recall  f1-score   support\n",
      "\n",
      "        Spam       0.98      0.84      0.91       280\n",
      "         Ham       0.97      1.00      0.99      1671\n",
      "\n",
      "    accuracy                           0.97      1951\n",
      "   macro avg       0.98      0.92      0.95      1951\n",
      "weighted avg       0.97      0.97      0.97      1951\n",
      "\n"
     ]
    }
   ],
   "source": [
    "classification_rep = classification_report(Y_test, prediction_on_test_data, target_names=['Spam', 'Ham'])\n",
    "print(\"Classification Report:\")\n",
    "print(classification_rep)\n"
   ]
  },
  {
   "cell_type": "markdown",
   "id": "8981b89b",
   "metadata": {
    "papermill": {
     "duration": 0.006529,
     "end_time": "2023-09-11T18:45:31.200798",
     "exception": false,
     "start_time": "2023-09-11T18:45:31.194269",
     "status": "completed"
    },
    "tags": []
   },
   "source": [
    " ## Feature Importance Visualization (Random Forest)"
   ]
  },
  {
   "cell_type": "code",
   "execution_count": 14,
   "id": "75160409",
   "metadata": {
    "execution": {
     "iopub.execute_input": "2023-09-11T18:45:31.216190Z",
     "iopub.status.busy": "2023-09-11T18:45:31.215610Z",
     "iopub.status.idle": "2023-09-11T18:45:31.501623Z",
     "shell.execute_reply": "2023-09-11T18:45:31.500968Z"
    },
    "papermill": {
     "duration": 0.295644,
     "end_time": "2023-09-11T18:45:31.503176",
     "exception": false,
     "start_time": "2023-09-11T18:45:31.207532",
     "status": "completed"
    },
    "tags": []
   },
   "outputs": [
    {
     "data": {
      "image/png": "[encoded data removed]",
      "text/plain": [
       "<Figure size 1000x600 with 1 Axes>"
      ]
     },
     "metadata": {},
     "output_type": "display_data"
    }
   ],
   "source": [
    "feature_importance = model.feature_importances_\n",
    "feature_names = tfidf_vectorizer.get_feature_names_out()\n",
    "sorted_idx = np.argsort(feature_importance)[-20:]  # Top 20 important features\n",
    "\n",
    "plt.figure(figsize=(10, 6))\n",
    "plt.barh(range(len(sorted_idx)), feature_importance[sorted_idx], align=\"center\")\n",
    "plt.yticks(range(len(sorted_idx)), [feature_names[i] for i in sorted_idx])\n",
    "plt.xlabel(\"Feature Importance\")\n",
    "plt.ylabel(\"Feature\")\n",
    "plt.title(\"Top 20 Important Features (Random Forest)\")\n",
    "plt.show()\n"
   ]
  },
  {
   "cell_type": "markdown",
   "id": "6922adc1",
   "metadata": {
    "papermill": {
     "duration": 0.007019,
     "end_time": "2023-09-11T18:45:31.517594",
     "exception": false,
     "start_time": "2023-09-11T18:45:31.510575",
     "status": "completed"
    },
    "tags": []
   },
   "source": [
    "## Make Predictions on New Input (Random Forest Classifier)"
   ]
  },
  {
   "cell_type": "code",
   "execution_count": 15,
   "id": "ac0f2a59",
   "metadata": {
    "execution": {
     "iopub.execute_input": "2023-09-11T18:45:31.534529Z",
     "iopub.status.busy": "2023-09-11T18:45:31.533683Z",
     "iopub.status.idle": "2023-09-11T18:45:31.545686Z",
     "shell.execute_reply": "2023-09-11T18:45:31.544719Z"
    },
    "papermill": {
     "duration": 0.022647,
     "end_time": "2023-09-11T18:45:31.547416",
     "exception": false,
     "start_time": "2023-09-11T18:45:31.524769",
     "status": "completed"
    },
    "tags": []
   },
   "outputs": [
    {
     "name": "stdout",
     "output_type": "stream",
     "text": [
      "Ham Mail\n"
     ]
    }
   ],
   "source": [
    "input_your_mail = \"Keep yourself safe for me because I need you and I miss you already and I envy everyone that see's you in real life\"\n",
    "input_data_features = tfidf_vectorizer.transform([input_your_mail])\n",
    "prediction = model.predict(input_data_features)\n",
    "if prediction[0] == 1:\n",
    "    print(\"Ham Mail\")\n",
    "else:\n",
    "    print(\"Spam Mail\")"
   ]
  }
 ],
 "kernelspec": {
  "display_name": "Python 3",
  "language": "python",
  "name": "python3"
 },
 "language_info": {
  "codemirror_mode": {
   "name": "ipython",
   "version": 3
  },
  "file_extension": ".py",
  "mimetype": "text/x-python",
  "name": "python",
  "nbconvert_exporter": "python",
  "pygments_lexer": "ipython3",
  "version": "3.6.4"
 },
 "metadata": {
  "kernelspec": {
   "display_name": "Python 3",
   "language": "python",
   "name": "python3"
  },
  "language_info": {
   "codemirror_mode": {
    "name": "ipython",
    "version": 3
   },
   "file_extension": ".py",
   "mimetype": "text/x-python",
   "name": "python",
   "nbconvert_exporter": "python",
   "pygments_lexer": "ipython3",
   "version": "3.10.12"
  },
  "papermill": {
   "default_parameters": {},
   "duration": 7.363804,
   "end_time": "2023-09-11T18:45:32.075221",
   "environment_variables": {},
   "exception": null,
   "input_path": "__notebook__.ipynb",
   "output_path": "__notebook__.ipynb",
   "parameters": {},
   "start_time": "2023-09-11T18:45:24.711417",
   "version": "2.4.0"
  }
 },
 "nbformat": 4,
 "nbformat_minor": 5
}
